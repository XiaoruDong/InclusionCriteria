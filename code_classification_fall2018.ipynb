{
 "cells": [
  {
   "cell_type": "code",
   "execution_count": 8,
   "metadata": {
    "collapsed": true
   },
   "outputs": [],
   "source": [
    "###### INCLUSION CRITERIA ANALYSIS###\n",
    "####The below code \n",
    "#Creators: Xiaoru Dong\n",
    "#Contributors:\n",
    "#Last updated: 12/10/2018"
   ]
  },
  {
   "cell_type": "code",
   "execution_count": 4,
   "metadata": {
    "collapsed": true
   },
   "outputs": [],
   "source": [
    "import pandas as pd\n",
    "from collections import OrderedDict"
   ]
  },
  {
   "cell_type": "code",
   "execution_count": 38,
   "metadata": {},
   "outputs": [],
   "source": [
    "# Assign spreadsheet filename to `file`\n",
    "file = '/Users/ruby/Desktop/Research/InclusionCriteriaClassification/Fall/Annotations_All.xlsx'\n",
    "\n",
    "# Load spreadsheet\n",
    "xl = pd.ExcelFile(file)\n",
    "\n",
    "# Load a sheet into a DataFrame by name: df1\n",
    "df = xl.parse('All Reviews (5420)')"
   ]
  },
  {
   "cell_type": "code",
   "execution_count": 39,
   "metadata": {
    "collapsed": true
   },
   "outputs": [],
   "source": [
    "# The list of stop words\n",
    "stop_words = ['i', 'me', 'my', 'myself', 'we', 'our', 'ours', 'ourselves', 'you', \"you're\", \"you've\", \"you'll\", \n",
    "              \"you'd\", 'your', 'yours', 'yourself', 'yourselves', 'he', 'him', 'his', 'himself', 'she', \"she's\", \n",
    "              'her', 'hers', 'herself', 'it', \"it's\", 'its', 'itself', 'they', 'them', 'their', 'theirs', 'themselves', \n",
    "              'what', 'which', 'who', 'whom', 'this', 'that', \"that'll\", 'these', 'those', 'am', 'is', 'are', 'was', \n",
    "              'were', 'be', 'been', 'being', 'have', 'has', 'had', 'having', 'do', 'does', 'did', 'doing', 'a', 'an', \n",
    "              'the', 'if', 'because', 'as', 'until', 'of', 'at', 'by', 'for', 'with', 'about', 'between', 'into',\n",
    "              'through', 'during', 'above', 'below', 'to', 'from', 'up', 'down', 'in', 'out', 'on', 'off', 'over', \n",
    "              'under', 'again', 'further', 'once', 'here', 'there', 'when', 'where', 'why', 'how', 'few', 'more', \n",
    "              'most', 'some', 'such', 'own', 'same', 'so', 'than', 'too', 'very', 's', 't', 'can', 'will', 'just', \n",
    "              'should', \"should've\", 'now', 'd', 'll', 'm', 'o', 're', 've', 'y', 'ain']"
   ]
  },
  {
   "cell_type": "code",
   "execution_count": 40,
   "metadata": {
    "collapsed": true
   },
   "outputs": [],
   "source": [
    "lineNum = len(df)"
   ]
  },
  {
   "cell_type": "code",
   "execution_count": 41,
   "metadata": {
    "collapsed": true
   },
   "outputs": [],
   "source": [
    "# set a function for outputing features\n",
    "def writefeatures(path, features):\n",
    "    with open(path,\"w\") as fp: \n",
    "        for word in features:\n",
    "            fp.write(word + \"\\n\")"
   ]
  },
  {
   "cell_type": "code",
   "execution_count": 42,
   "metadata": {
    "collapsed": true
   },
   "outputs": [],
   "source": [
    "# get an arff file used as the input in Weka\n",
    "def writewekainput(path, features, lineNum, eachline, rct):\n",
    "    with open(path,\"w\") as fp:        #this line of code to create a new file\n",
    "        fp.write('''@RELATION classification_analysis\\n''')\n",
    "    \n",
    "        for i in range(len(features)): \n",
    "            fp.write('''@ATTRIBUTE ''' + \"word\" + str(i) + ''' NUMERIC\\n''') \n",
    "    \n",
    "        fp.write('''@ATTRIBUTE class {1.0, 0.0}\\n''')\n",
    "        fp.write('''@DATA\\n''')\n",
    "\n",
    "    #this code is to check if a word appear in the feature list or not. If yes, then write \"1\", if no then write \"0\"\n",
    "    \n",
    "        for i in range(lineNum): \n",
    "            binary = {}\n",
    "            for word in features:\n",
    "                if word in eachline[i]:\n",
    "                    binary[word] = 1\n",
    "                else:\n",
    "                    binary[word] = 0\n",
    "                fp.write(str(binary[word]) + \",\")\n",
    "            fp.write(rct[i] + \"\\n\")"
   ]
  },
  {
   "cell_type": "code",
   "execution_count": 43,
   "metadata": {
    "collapsed": true
   },
   "outputs": [],
   "source": [
    "# Extract Features"
   ]
  },
  {
   "cell_type": "code",
   "execution_count": 48,
   "metadata": {
    "collapsed": true
   },
   "outputs": [],
   "source": [
    "results1 = []\n",
    "wordlist = []\n",
    "rct = []\n",
    "eachline = []\n",
    "\n",
    "# split the sentence into words and save in a list\n",
    "for i in range(lineNum): \n",
    "    \n",
    "    string_rct = str(df['Only RCTs'][i])\n",
    "    if string_rct == 'nan':\n",
    "        string_rct = '0.0'\n",
    "    if string_rct == 'x':\n",
    "        string_rct = '1.0'\n",
    "    rct.append(string_rct)\n",
    "    \n",
    "    string = str(df['Inclusion Criteria'][i]).lower().strip()\n",
    "    wordlist = string.split(' ')\n",
    "    \n",
    "    for j in range(len(wordlist)):\n",
    "        wordlist[j] = wordlist[j].replace('.', '')\n",
    "        wordlist[j] = wordlist[j].replace(')', '')\n",
    "        wordlist[j] = wordlist[j].replace('(', '')\n",
    "        wordlist[j] = wordlist[j].replace(',', '')\n",
    "        wordlist[j] = wordlist[j].replace(\"'\", '')\n",
    "        wordlist[j] = wordlist[j].replace('\"', '')\n",
    "        results1.append(wordlist[j])\n",
    "    eachline.append(wordlist)"
   ]
  },
  {
   "cell_type": "code",
   "execution_count": 49,
   "metadata": {},
   "outputs": [
    {
     "data": {
      "text/plain": [
       "7292"
      ]
     },
     "execution_count": 49,
     "metadata": {},
     "output_type": "execute_result"
    }
   ],
   "source": [
    "#remove empty element in the list\n",
    "results1 = list(OrderedDict.fromkeys(results1))\n",
    "results1 = [x for x in results1 if x] \n",
    "len(results1)"
   ]
  },
  {
   "cell_type": "code",
   "execution_count": 50,
   "metadata": {},
   "outputs": [
    {
     "data": {
      "text/plain": [
       "7202"
      ]
     },
     "execution_count": 50,
     "metadata": {},
     "output_type": "execute_result"
    }
   ],
   "source": [
    "# remove stop words\n",
    "results1 = [word for word in results1 if word not in stop_words]\n",
    "len(results1)"
   ]
  },
  {
   "cell_type": "code",
   "execution_count": 51,
   "metadata": {},
   "outputs": [],
   "source": [
    "# output features\n",
    "featureword0_savepath = \"/Users/ruby/Desktop/Research/InclusionCriteriaClassification/Fall/word_bag_0.txt\"\n",
    "writefeatures(featureword0_savepath, results1)"
   ]
  },
  {
   "cell_type": "code",
   "execution_count": 56,
   "metadata": {},
   "outputs": [],
   "source": [
    "# output the weka input file\n",
    "weka0_path=\"/Users/ruby/Desktop/Research/InclusionCriteriaClassification/Fall/classification_fall_weka_input_0.arff\"\n",
    "writewekainput(weka0_path, results1, lineNum, eachline, rct)"
   ]
  },
  {
   "cell_type": "code",
   "execution_count": 53,
   "metadata": {
    "collapsed": true
   },
   "outputs": [],
   "source": [
    "# Extract Features using information gain"
   ]
  },
  {
   "cell_type": "code",
   "execution_count": 74,
   "metadata": {
    "collapsed": true
   },
   "outputs": [],
   "source": [
    "# Assign spreadsheet filename to `file`\n",
    "file = '/Users/ruby/Desktop/Research/InclusionCriteriaClassification/Fall/WekaResult/InfoWords.xlsx'\n",
    "\n",
    "# Load spreadsheet\n",
    "x2 = pd.ExcelFile(file)\n",
    "\n",
    "# Load a sheet into a DataFrame by name: df2\n",
    "df2 = x2.parse('InfoWords0')\n",
    "df3 = x2.parse('InfoWords')"
   ]
  },
  {
   "cell_type": "code",
   "execution_count": 57,
   "metadata": {},
   "outputs": [],
   "source": [
    "# read the informative words and save them in a list\n",
    "info_wordlist = []\n",
    "for word in (df2['Word Code in Weka']-1):\n",
    "    info_wordlist.append(results1[word])"
   ]
  },
  {
   "cell_type": "code",
   "execution_count": 58,
   "metadata": {},
   "outputs": [
    {
     "data": {
      "text/plain": [
       "1662"
      ]
     },
     "execution_count": 58,
     "metadata": {},
     "output_type": "execute_result"
    }
   ],
   "source": [
    "len(info_wordlist)"
   ]
  },
  {
   "cell_type": "code",
   "execution_count": 59,
   "metadata": {
    "collapsed": true
   },
   "outputs": [],
   "source": [
    "# output features\n",
    "featureinfoword0_savepath = \"/Users/ruby/Desktop/Research/InclusionCriteriaClassification/Fall/InfoWord/informative_words_0.txt\"\n",
    "writefeatures(featureinfoword0_savepath, info_wordlist)"
   ]
  },
  {
   "cell_type": "code",
   "execution_count": 60,
   "metadata": {
    "collapsed": true
   },
   "outputs": [],
   "source": [
    "# output the weka input file\n",
    "wekainfo0_path=\"/Users/ruby/Desktop/Research/InclusionCriteriaClassification/Fall/InfoWord/classification_fall_weka_input_info_0.arff\"\n",
    "writewekainput(wekainfo0_path, info_wordlist, lineNum, eachline, rct)"
   ]
  },
  {
   "cell_type": "code",
   "execution_count": null,
   "metadata": {
    "collapsed": true
   },
   "outputs": [],
   "source": [
    "# remove same meaning words"
   ]
  },
  {
   "cell_type": "code",
   "execution_count": 68,
   "metadata": {},
   "outputs": [],
   "source": [
    "results2 = []\n",
    "wordlist2 = []\n",
    "rct = []\n",
    "eachline2 = []\n",
    "\n",
    "#replace the same meaning words\n",
    "quasi = ['quasi-rcts', 'quasi-randomized', 'quasi-randomised', 'quasi-random', 'quasi-randomly']\n",
    "cct = ['cct', 'ccts']\n",
    "cba = ['cba', 'cbas', 'before-after']\n",
    "privative = [\"not\",\"didn't\", \"don't\", \"won't\", \"isn't\", \"aren't\", \"wasn't\", \"weren't\", \"needn't\", \"wouldn't\", \"shouldn't\", \"can't\", \"couldn't\", \"no\"]\n",
    "\n",
    "# split the sentence into words and save in a list\n",
    "for i in range(lineNum): \n",
    "    \n",
    "    string_rct = str(df['Only RCTs'][i])\n",
    "    if string_rct == 'nan':\n",
    "        string_rct = '0.0'\n",
    "    if string_rct == 'x':\n",
    "        string_rct = '1.0'\n",
    "    rct.append(string_rct)\n",
    "    \n",
    "    string = str(df['Inclusion Criteria'][i]).lower().strip()\n",
    "    wordlist2 = string.split(' ')\n",
    "    \n",
    "    for j in range(len(wordlist2)):\n",
    "        wordlist2[j] = wordlist2[j].replace('.', '')\n",
    "        wordlist2[j] = wordlist2[j].replace(')', '')\n",
    "        wordlist2[j] = wordlist2[j].replace('(', '')\n",
    "        wordlist2[j] = wordlist2[j].replace(',', '')\n",
    "        wordlist2[j] = wordlist2[j].replace(\"'\", '')\n",
    "        wordlist2[j] = wordlist2[j].replace('\"', '')\n",
    "        if wordlist2[j] in quasi:\n",
    "            wordlist2[j] = 'quasi-rcts'\n",
    "        if wordlist2[j] in cct:\n",
    "            wordlist2[j] = 'cct'\n",
    "        if wordlist2[j] in cba:\n",
    "            wordlist2[j] = 'cba'\n",
    "        if wordlist2[j] in privative:\n",
    "            wordlist2[j] = 'not'\n",
    "        results2.append(wordlist2[j])\n",
    "    eachline2.append(wordlist2)"
   ]
  },
  {
   "cell_type": "code",
   "execution_count": 69,
   "metadata": {},
   "outputs": [
    {
     "data": {
      "text/plain": [
       "7194"
      ]
     },
     "execution_count": 69,
     "metadata": {},
     "output_type": "execute_result"
    }
   ],
   "source": [
    "results2 = list(OrderedDict.fromkeys(results2))\n",
    "results2 = [x for x in results2 if x] #remove empty element in the list\n",
    "results2 = [word for word in results2 if word not in stop_words]\n",
    "len(results2)"
   ]
  },
  {
   "cell_type": "code",
   "execution_count": 70,
   "metadata": {
    "collapsed": true,
    "scrolled": true
   },
   "outputs": [],
   "source": [
    "# output features\n",
    "featureinfoword_savepath = \"/Users/ruby/Desktop/Research/InclusionCriteriaClassification/Fall/word_bag.txt\"\n",
    "writefeatures(featureinfoword_savepath, results2)"
   ]
  },
  {
   "cell_type": "code",
   "execution_count": 73,
   "metadata": {
    "collapsed": true
   },
   "outputs": [],
   "source": [
    "# output the weka input file\n",
    "weka_path=\"/Users/ruby/Desktop/Research/InclusionCriteriaClassification/Fall/classification_fall_weka_input.arff\"\n",
    "writewekainput(weka_path, results2, lineNum, eachline2, rct)"
   ]
  },
  {
   "cell_type": "code",
   "execution_count": 14,
   "metadata": {
    "collapsed": true
   },
   "outputs": [],
   "source": [
    "# infomative words "
   ]
  },
  {
   "cell_type": "code",
   "execution_count": 75,
   "metadata": {
    "collapsed": true
   },
   "outputs": [],
   "source": [
    "# read the informative words and save them in a list\n",
    "info_wordlist = []\n",
    "for word in (df3['Word Code in Weka']-1):\n",
    "    info_wordlist.append(results2[word])"
   ]
  },
  {
   "cell_type": "code",
   "execution_count": 77,
   "metadata": {},
   "outputs": [
    {
     "data": {
      "text/plain": [
       "1655"
      ]
     },
     "execution_count": 77,
     "metadata": {},
     "output_type": "execute_result"
    }
   ],
   "source": [
    "len(info_wordlist)"
   ]
  },
  {
   "cell_type": "code",
   "execution_count": 78,
   "metadata": {
    "collapsed": true
   },
   "outputs": [],
   "source": [
    "# output features\n",
    "featureinfoword_savepath = \"/Users/ruby/Desktop/Research/InclusionCriteriaClassification/Fall/InfoWord/informative_words.txt\"\n",
    "writefeatures(featureinfoword_savepath, info_wordlist)"
   ]
  },
  {
   "cell_type": "code",
   "execution_count": 79,
   "metadata": {
    "collapsed": true
   },
   "outputs": [],
   "source": [
    "# output the weka input file\n",
    "wekainfo_path=\"/Users/ruby/Desktop/Research/InclusionCriteriaClassification/Fall/InfoWord/classification_fall_weka_input_info.arff\"\n",
    "writewekainput(wekainfo_path, info_wordlist, lineNum, eachline2, rct)"
   ]
  },
  {
   "cell_type": "code",
   "execution_count": null,
   "metadata": {
    "collapsed": true
   },
   "outputs": [],
   "source": []
  },
  {
   "cell_type": "code",
   "execution_count": null,
   "metadata": {
    "collapsed": true
   },
   "outputs": [],
   "source": []
  }
 ],
 "metadata": {
  "kernelspec": {
   "display_name": "Python 3",
   "language": "python",
   "name": "python3"
  },
  "language_info": {
   "codemirror_mode": {
    "name": "ipython",
    "version": 3
   },
   "file_extension": ".py",
   "mimetype": "text/x-python",
   "name": "python",
   "nbconvert_exporter": "python",
   "pygments_lexer": "ipython3",
   "version": "3.6.2"
  }
 },
 "nbformat": 4,
 "nbformat_minor": 2
}
