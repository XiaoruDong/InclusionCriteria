{
 "cells": [
  {
   "cell_type": "code",
   "execution_count": 6,
   "metadata": {
    "collapsed": true
   },
   "outputs": [],
   "source": [
    "# Edit the error analysis weka output result\n",
    "NumInfoWord = 407\n",
    "Num = NumInfoWord + 7\n",
    "f = open(\"/Users/ruby/Desktop/Research/InclusionCriteriaClassification/Fall/ErrorAnalysis/error_analysis 2/error_analysis_wekaoutput2.arff\",\"r\")\n",
    "lines = f.readlines()\n",
    "f.close()\n",
    "f = open(\"/Users/ruby/Desktop/Research/InclusionCriteriaClassification/Fall/ErrorAnalysis/error_analysis 2/error_analysis_wekaoutput2.txt\",\"w\")\n",
    "del lines[0:Num]\n",
    "for line in lines:\n",
    "    f.write(line)\n",
    "f.close()\n",
    "\n",
    "# Edit the weka informative words input\n",
    "Num = NumInfoWord + 3\n",
    "f = open(\"/Users/ruby/Desktop/Research/InclusionCriteriaClassification/Fall/InfoWord/classification_fall_weka_input_info3.arff\",\"r\")\n",
    "lines = f.readlines()\n",
    "f.close()\n",
    "f = open(\"/Users/ruby/Desktop/Research/InclusionCriteriaClassification/Fall/ErrorAnalysis/error_analysis 2/weka_info3_input.txt\",\"w\")\n",
    "del lines[0:Num]\n",
    "for line in lines:\n",
    "    f.write(line)\n",
    "f.close()"
   ]
  },
  {
   "cell_type": "code",
   "execution_count": 7,
   "metadata": {
    "collapsed": true
   },
   "outputs": [],
   "source": [
    "with open('/Users/ruby/Desktop/Research/InclusionCriteriaClassification/Fall/ErrorAnalysis/error_analysis 2/error_analysis_wekaoutput2.txt') as f:\n",
    "    content = f.readlines()\n",
    "\n",
    "content = [x.strip() for x in content]\n",
    "\n",
    "with open('/Users/ruby/Desktop/Research/InclusionCriteriaClassification/Fall/ErrorAnalysis/error_analysis 2/weka_info3_input.txt') as df:\n",
    "    text = df.readlines()\n",
    "\n",
    "text = [x.strip() for x in text]\n",
    "\n",
    "import pandas as pd\n",
    "from collections import OrderedDict\n",
    "\n",
    "# Assign spreadsheet filename to `file`\n",
    "file = '/Users/ruby/Desktop/Research/InclusionCriteriaClassification/Fall/Annotations_All.xlsx'\n",
    "\n",
    "# Load spreadsheet\n",
    "xl = pd.ExcelFile(file)\n",
    "\n",
    "# Load a sheet into a DataFrame by name: df1\n",
    "o_text = xl.parse('All Reviews (5420)')"
   ]
  },
  {
   "cell_type": "code",
   "execution_count": 8,
   "metadata": {
    "collapsed": true,
    "scrolled": true
   },
   "outputs": [],
   "source": [
    "error = []\n",
    "for line in content:\n",
    "    if line.split(\",\")[-1] != line.split(\",\")[-2]:\n",
    "        error.append(str(line.rsplit(',', 3)[0] + ',' + line.rsplit(',', 1)[1]))"
   ]
  },
  {
   "cell_type": "code",
   "execution_count": 9,
   "metadata": {
    "collapsed": true
   },
   "outputs": [],
   "source": [
    "correct = []\n",
    "for line in content:\n",
    "    if line.split(\",\")[-1] == line.split(\",\")[-2]:\n",
    "        correct.append(str(line.rsplit(',', 3)[0] + ',' + line.rsplit(',', 1)[1]))"
   ]
  },
  {
   "cell_type": "code",
   "execution_count": 10,
   "metadata": {
    "collapsed": true
   },
   "outputs": [],
   "source": [
    "def remove_duplicates(values):\n",
    "    output = []\n",
    "    seen = set()\n",
    "    for value in values:\n",
    "        if value not in seen:\n",
    "            output.append(value)\n",
    "            seen.add(value)\n",
    "    return output\n",
    "error2 = remove_duplicates(error)\n",
    "correct2 = remove_duplicates(correct)"
   ]
  },
  {
   "cell_type": "code",
   "execution_count": 11,
   "metadata": {
    "collapsed": true
   },
   "outputs": [],
   "source": [
    "with open(\"/Users/ruby/Desktop/Research/InclusionCriteriaClassification/Fall/ErrorAnalysis/error_analysis 2/error_weka2.txt\",\"w\") as e_sen:        #this line of code to create a new file\n",
    "\n",
    "    for line1 in error:\n",
    "        e_sen.write(line1 + \"\\n\")\n",
    "        \n",
    "with open(\"/Users/ruby/Desktop/Research/InclusionCriteriaClassification/Fall/ErrorAnalysis/error_analysis 2/error_weka2_no_duplicate.txt\",\"w\") as e_sen:        #this line of code to create a new file\n",
    "\n",
    "    for line1 in error2:\n",
    "        e_sen.write(line1 + \"\\n\" + \"\\n\")\n",
    "        \n",
    "with open(\"/Users/ruby/Desktop/Research/InclusionCriteriaClassification/Fall/ErrorAnalysis/error_analysis 2/correct_weka2.txt\",\"w\") as e_sen:        #this line of code to create a new file\n",
    "\n",
    "    for line1 in correct:\n",
    "        e_sen.write(line1 + \"\\n\")\n",
    "        \n",
    "with open(\"/Users/ruby/Desktop/Research/InclusionCriteriaClassification/Fall/ErrorAnalysis/error_analysis 2/correct_weka2_no_duplicate.txt\",\"w\") as e_sen:        #this line of code to create a new file\n",
    "\n",
    "    for line1 in correct2:\n",
    "        e_sen.write(line1 + \"\\n\" + \"\\n\")"
   ]
  },
  {
   "cell_type": "code",
   "execution_count": 21,
   "metadata": {},
   "outputs": [],
   "source": [
    "with open(\"/Users/ruby/Desktop/Research/InclusionCriteriaClassification/Fall/ErrorAnalysis/error_analysis 2/error_sentence2_RCT.txt\",\"w\") as e_rct: \n",
    "    \n",
    "    for line1 in error2:\n",
    "        i = 0\n",
    "        for line2 in text:\n",
    "            if line1 == line2:\n",
    "                if str(o_text['Only RCTs'][i]) == 'x':\n",
    "                    e_rct.write(o_text['Inclusion Criteria'][i] + \"\\n\")\n",
    "                    e_rct.write(str(o_text['Only RCTs'][i]) + \"\\n\" + \"\\n\")\n",
    "            i += 1\n",
    "\n",
    "with open(\"/Users/ruby/Desktop/Research/InclusionCriteriaClassification/Fall/ErrorAnalysis/error_analysis 2/error_sentence2_NotRCT.txt\",\"w\") as e_notrct:\n",
    "    \n",
    "    for line1 in error2:\n",
    "        i = 0\n",
    "        for line2 in text:\n",
    "            if line1 == line2:\n",
    "                if str(o_text['Only RCTs'][i]) == 'nan':\n",
    "                    e_notrct.write(o_text['Inclusion Criteria'][i] + \"\\n\")\n",
    "                    e_notrct.write(str(o_text['Only RCTs'][i]) + \"\\n\" + \"\\n\")\n",
    "            i += 1"
   ]
  },
  {
   "cell_type": "code",
   "execution_count": 23,
   "metadata": {
    "collapsed": true
   },
   "outputs": [],
   "source": [
    "with open(\"/Users/ruby/Desktop/Research/InclusionCriteriaClassification/Fall/ErrorAnalysis/error_analysis 2/error_sentence2.txt\",\"w\") as e_sen: \n",
    "    \n",
    "    for line1 in error2:\n",
    "        i = 0\n",
    "        for line2 in text:\n",
    "            if line1 == line2:\n",
    "                e_sen.write(o_text['Inclusion Criteria'][i] + \"\\n\")\n",
    "                e_sen.write(str(o_text['Only RCTs'][i]) + \"\\n\" + \"\\n\")\n",
    "            i += 1"
   ]
  },
  {
   "cell_type": "code",
   "execution_count": 25,
   "metadata": {},
   "outputs": [],
   "source": [
    "with open(\"/Users/ruby/Desktop/Research/InclusionCriteriaClassification/Fall/ErrorAnalysis/error_analysis 2/correct_sentence2_RCT.txt\",\"w\") as e_rct: \n",
    "    \n",
    "    for line1 in correct2:\n",
    "        i = 0\n",
    "        for line2 in text:\n",
    "            if line1 == line2:\n",
    "                if str(o_text['Only RCTs'][i]) == 'x':\n",
    "                    e_rct.write(o_text['Inclusion Criteria'][i] + \"\\n\")\n",
    "                    e_rct.write(str(o_text['Only RCTs'][i]) + \"\\n\" + \"\\n\")\n",
    "            i += 1\n",
    "\n",
    "with open(\"/Users/ruby/Desktop/Research/InclusionCriteriaClassification/Fall/ErrorAnalysis/error_analysis 2/correct_sentence2_NotRCT.txt\",\"w\") as e_notrct:\n",
    "    \n",
    "    for line1 in correct2:\n",
    "        i = 0\n",
    "        for line2 in text:\n",
    "            if line1 == line2:\n",
    "                if str(o_text['Only RCTs'][i]) == 'nan':\n",
    "                    e_notrct.write(str(o_text['Inclusion Criteria'][i]) + \"\\n\")\n",
    "                    e_notrct.write(str(o_text['Only RCTs'][i]) + \"\\n\" + \"\\n\")\n",
    "            i += 1"
   ]
  },
  {
   "cell_type": "code",
   "execution_count": 27,
   "metadata": {
    "collapsed": true
   },
   "outputs": [],
   "source": [
    "with open(\"/Users/ruby/Desktop/Research/InclusionCriteriaClassification/Fall/ErrorAnalysis/error_analysis 2/correct_sentence2.txt\",\"w\") as cor_sen: \n",
    "    \n",
    "    for line1 in correct2:\n",
    "        i = 0\n",
    "        for line2 in text:\n",
    "            if line1 == line2:\n",
    "                cor_sen.write(str(o_text['Inclusion Criteria'][i]) + \"\\n\")\n",
    "                cor_sen.write(str(o_text['Only RCTs'][i]) + \"\\n\" + \"\\n\")\n",
    "            i += 1"
   ]
  },
  {
   "cell_type": "code",
   "execution_count": null,
   "metadata": {
    "collapsed": true
   },
   "outputs": [],
   "source": []
  },
  {
   "cell_type": "code",
   "execution_count": null,
   "metadata": {
    "collapsed": true
   },
   "outputs": [],
   "source": []
  }
 ],
 "metadata": {
  "kernelspec": {
   "display_name": "Python 3",
   "language": "python",
   "name": "python3"
  },
  "language_info": {
   "codemirror_mode": {
    "name": "ipython",
    "version": 3
   },
   "file_extension": ".py",
   "mimetype": "text/x-python",
   "name": "python",
   "nbconvert_exporter": "python",
   "pygments_lexer": "ipython3",
   "version": "3.6.2"
  }
 },
 "nbformat": 4,
 "nbformat_minor": 2
}
