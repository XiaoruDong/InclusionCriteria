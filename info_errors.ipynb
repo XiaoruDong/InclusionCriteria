{
 "cells": [
  {
   "cell_type": "code",
   "execution_count": 32,
   "metadata": {
    "collapsed": true
   },
   "outputs": [],
   "source": [
    "# Edit the error analysis weka output result\n",
    "path = \"/Users/phuong/Downloads/Inclusion_Criteria_Revised/\"\n",
    "NumInfoWord = 407\n",
    "Num = NumInfoWord + 7\n",
    "\n",
    "weka_output_file = path + 'error_analysis_wekaoutput.arff'\n",
    "f = open(weka_output_file,\"r\")\n",
    "lines = f.readlines()\n",
    "f.close()\n",
    "\n",
    "error_analysis_file = path + 'error_analysis_wekaoutput.txt'\n",
    "f = open(error_analysis_file,\"w\")\n",
    "del lines[0:Num]\n",
    "for line in lines:\n",
    "    f.write(line)\n",
    "f.close()\n",
    "\n",
    "\n",
    "# Edit the weka informative words input\n",
    "Num = NumInfoWord + 3\n",
    "\n",
    "wekainput_file = path + \"WordSelectedbyManualAnalysis_weka_input.arff\"\n",
    "f = open(wekainput_file,\"r\")\n",
    "lines = f.readlines()\n",
    "f.close()\n",
    "\n",
    "lines_file = path + \"WordSelectedbyManualAnalysis_weka_input.txt\"\n",
    "f = open(lines_file,\"w\")\n",
    "del lines[0:Num]\n",
    "for line in lines:\n",
    "    f.write(line)\n",
    "f.close()"
   ]
  },
  {
   "cell_type": "code",
   "execution_count": 33,
   "metadata": {
    "collapsed": true
   },
   "outputs": [],
   "source": [
    "with open(error_analysis_file) as f:\n",
    "    content = f.readlines()\n",
    "\n",
    "content = [x.strip() for x in content]\n",
    "\n",
    "with open(lines_file) as df:\n",
    "    text = df.readlines()\n",
    "\n",
    "text = [x.strip() for x in text]\n",
    "\n",
    "import pandas as pd\n",
    "from collections import OrderedDict\n",
    "\n",
    "# Assign spreadsheet filename to `file`\n",
    "file = path + 'Inclusion_Criteria_Annotation.csv'\n",
    "\n",
    "o_text = pd.read_csv(file, encoding = \"ISO-8859-1\")"
   ]
  },
  {
   "cell_type": "code",
   "execution_count": 34,
   "metadata": {
    "collapsed": true,
    "scrolled": true
   },
   "outputs": [],
   "source": [
    "error = []\n",
    "for line in content:\n",
    "    if line.split(\",\")[-1] != line.split(\",\")[-2]:\n",
    "        error.append(str(line.rsplit(',', 3)[0] + ',' + line.rsplit(',', 1)[1]))"
   ]
  },
  {
   "cell_type": "code",
   "execution_count": 35,
   "metadata": {
    "collapsed": true
   },
   "outputs": [],
   "source": [
    "correct = []\n",
    "for line in content:\n",
    "    if line.split(\",\")[-1] == line.split(\",\")[-2]:\n",
    "        correct.append(str(line.rsplit(',', 3)[0] + ',' + line.rsplit(',', 1)[1]))"
   ]
  },
  {
   "cell_type": "code",
   "execution_count": 36,
   "metadata": {
    "collapsed": true
   },
   "outputs": [],
   "source": [
    "def remove_duplicates(values):\n",
    "    output = []\n",
    "    seen = set()\n",
    "    for value in values:\n",
    "        if value not in seen:\n",
    "            output.append(value)\n",
    "            seen.add(value)\n",
    "    return output\n",
    "error2 = remove_duplicates(error)\n",
    "correct2 = remove_duplicates(correct)"
   ]
  },
  {
   "cell_type": "code",
   "execution_count": 37,
   "metadata": {
    "collapsed": true
   },
   "outputs": [],
   "source": [
    "error_line_RCT = path + 'error_line_RCT.txt'\n",
    "with open(error_line_RCT,\"w\") as e_rct: \n",
    "    \n",
    "    for line1 in error2:\n",
    "        i = 0\n",
    "        for line2 in text:\n",
    "            if line1 == line2:\n",
    "                if str(o_text['Only RCTs'][i]) == 'x':\n",
    "                    e_rct.write(o_text['Inclusion Criteria'][i] + \"\\n\")\n",
    "                    e_rct.write(str(o_text['Only RCTs'][i]) + \"\\n\" + \"\\n\")\n",
    "            i += 1\n",
    "\n",
    "error_line_NotRCT = path + 'error_line_NotRCT.txt'\n",
    "with open(error_line_NotRCT,\"w\") as e_notrct:\n",
    "    \n",
    "    for line1 in error2:\n",
    "        i = 0\n",
    "        for line2 in text:\n",
    "            if line1 == line2:\n",
    "                if str(o_text['Only RCTs'][i]) == 'nan':\n",
    "                    e_notrct.write(o_text['Inclusion Criteria'][i] + \"\\n\")\n",
    "                    e_notrct.write(str(o_text['Only RCTs'][i]) + \"\\n\" + \"\\n\")\n",
    "            i += 1"
   ]
  },
  {
   "cell_type": "code",
   "execution_count": 38,
   "metadata": {
    "collapsed": true
   },
   "outputs": [],
   "source": [
    "error_line = path + 'error_line.txt'\n",
    "with open(error_line,\"w\") as e_sen: \n",
    "    \n",
    "    for line1 in error2:\n",
    "        i = 0\n",
    "        for line2 in text:\n",
    "            if line1 == line2:\n",
    "                e_sen.write(o_text['Inclusion Criteria'][i] + \"\\n\")\n",
    "                e_sen.write(str(o_text['Only RCTs'][i]) + \"\\n\" + \"\\n\")\n",
    "            i += 1"
   ]
  },
  {
   "cell_type": "code",
   "execution_count": 39,
   "metadata": {
    "collapsed": true
   },
   "outputs": [],
   "source": [
    "correct_line_RCT = path + 'correct_line_RCT.txt'\n",
    "with open(correct_line_RCT,\"w\") as e_rct: \n",
    "    \n",
    "    for line1 in correct2:\n",
    "        i = 0\n",
    "        for line2 in text:\n",
    "            if line1 == line2:\n",
    "                if str(o_text['Only RCTs'][i]) == 'x':\n",
    "                    e_rct.write(o_text['Inclusion Criteria'][i] + \"\\n\")\n",
    "                    e_rct.write(str(o_text['Only RCTs'][i]) + \"\\n\" + \"\\n\")\n",
    "            i += 1\n",
    "\n",
    "correct_line_NotRCT = path + 'correct_line_NotRCT.txt'\n",
    "with open(correct_line_NotRCT,\"w\") as e_notrct:\n",
    "    \n",
    "    for line1 in correct2:\n",
    "        i = 0\n",
    "        for line2 in text:\n",
    "            if line1 == line2:\n",
    "                if str(o_text['Only RCTs'][i]) == 'nan':\n",
    "                    e_notrct.write(str(o_text['Inclusion Criteria'][i]) + \"\\n\")\n",
    "                    e_notrct.write(str(o_text['Only RCTs'][i]) + \"\\n\" + \"\\n\")\n",
    "            i += 1"
   ]
  },
  {
   "cell_type": "code",
   "execution_count": 40,
   "metadata": {
    "collapsed": true
   },
   "outputs": [],
   "source": [
    "correct_line = path + 'correct_line.txt'\n",
    "with open(correct_line,\"w\") as cor_sen: \n",
    "    \n",
    "    for line1 in correct2:\n",
    "        i = 0\n",
    "        for line2 in text:\n",
    "            if line1 == line2:\n",
    "                cor_sen.write(str(o_text['Inclusion Criteria'][i]) + \"\\n\")\n",
    "                cor_sen.write(str(o_text['Only RCTs'][i]) + \"\\n\" + \"\\n\")\n",
    "            i += 1"
   ]
  },
  {
   "cell_type": "code",
   "execution_count": null,
   "metadata": {
    "collapsed": true
   },
   "outputs": [],
   "source": []
  }
 ],
 "metadata": {
  "kernelspec": {
   "display_name": "Python 3",
   "language": "python",
   "name": "python3"
  },
  "language_info": {
   "codemirror_mode": {
    "name": "ipython",
    "version": 3
   },
   "file_extension": ".py",
   "mimetype": "text/x-python",
   "name": "python",
   "nbconvert_exporter": "python",
   "pygments_lexer": "ipython3",
   "version": "3.6.2"
  }
 },
 "nbformat": 4,
 "nbformat_minor": 2
}
